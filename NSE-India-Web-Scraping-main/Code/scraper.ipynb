{
 "cells": [
  {
   "cell_type": "code",
   "execution_count": 1,
   "metadata": {},
   "outputs": [],
   "source": [
    "from individual_company_stock import getHistoryData\n",
    "import pandas as pd\n",
    "import numpy as np\n",
    "from datetime import date,timedelta\n",
    "from IPython.display import clear_output"
   ]
  },
  {
   "cell_type": "code",
   "execution_count": 6,
   "metadata": {},
   "outputs": [],
   "source": [
    "symbols_read_path=\"D:\\\\programs\\\\ads_flask\\\\MW-NIFTY-50-symbols.csv\"#path fo file with stock symbols to get data for\n",
    "data_write_dir=\"D:\\\\output\\\\\"#path of dir to write .csv files into\n",
    "annot=\"\"#Additional info to be added to file name(optional)"
   ]
  },
  {
   "cell_type": "code",
   "execution_count": 3,
   "metadata": {},
   "outputs": [
    {
     "data": {
      "text/plain": [
       "datetime.date(2023, 7, 2)"
      ]
     },
     "execution_count": 3,
     "metadata": {},
     "output_type": "execute_result"
    }
   ],
   "source": [
    "cdate=date.today()\n",
    "cdate"
   ]
  },
  {
   "cell_type": "code",
   "execution_count": 7,
   "metadata": {},
   "outputs": [
    {
     "name": "stdout",
     "output_type": "stream",
     "text": [
      "Number of stocks:50\n"
     ]
    }
   ],
   "source": [
    "stocks=pd.read_csv(symbols_read_path)\n",
    "print(\"Number of stocks:\"+str(stocks[\"SYMBOL\"].size))"
   ]
  },
  {
   "cell_type": "code",
   "execution_count": 10,
   "metadata": {},
   "outputs": [
    {
     "data": {
      "text/html": [
       "<div>\n",
       "<style scoped>\n",
       "    .dataframe tbody tr th:only-of-type {\n",
       "        vertical-align: middle;\n",
       "    }\n",
       "\n",
       "    .dataframe tbody tr th {\n",
       "        vertical-align: top;\n",
       "    }\n",
       "\n",
       "    .dataframe thead th {\n",
       "        text-align: right;\n",
       "    }\n",
       "</style>\n",
       "<table border=\"1\" class=\"dataframe\">\n",
       "  <thead>\n",
       "    <tr style=\"text-align: right;\">\n",
       "      <th></th>\n",
       "      <th>0</th>\n",
       "      <th>1</th>\n",
       "      <th>2</th>\n",
       "      <th>3</th>\n",
       "      <th>4</th>\n",
       "      <th>5</th>\n",
       "      <th>6</th>\n",
       "      <th>7</th>\n",
       "      <th>8</th>\n",
       "      <th>9</th>\n",
       "      <th>...</th>\n",
       "      <th>40</th>\n",
       "      <th>41</th>\n",
       "      <th>42</th>\n",
       "      <th>43</th>\n",
       "      <th>44</th>\n",
       "      <th>45</th>\n",
       "      <th>46</th>\n",
       "      <th>47</th>\n",
       "      <th>48</th>\n",
       "      <th>49</th>\n",
       "    </tr>\n",
       "  </thead>\n",
       "  <tbody>\n",
       "    <tr>\n",
       "      <th>SYMBOL</th>\n",
       "      <td>TATAMOTORS</td>\n",
       "      <td>HCLTECH</td>\n",
       "      <td>POWERGRID</td>\n",
       "      <td>HDFCLIFE</td>\n",
       "      <td>EICHERMOT</td>\n",
       "      <td>BAJAJ-AUTO</td>\n",
       "      <td>TECHM</td>\n",
       "      <td>NTPC</td>\n",
       "      <td>SBILIFE</td>\n",
       "      <td>AXISBANK</td>\n",
       "      <td>...</td>\n",
       "      <td>HINDUNILVR</td>\n",
       "      <td>ULTRACEMCO</td>\n",
       "      <td>ONGC</td>\n",
       "      <td>INDUSINDBK</td>\n",
       "      <td>DIVISLAB</td>\n",
       "      <td>BPCL</td>\n",
       "      <td>M&amp;M</td>\n",
       "      <td>SUNPHARMA</td>\n",
       "      <td>BAJAJFINSV</td>\n",
       "      <td>BAJFINANCE</td>\n",
       "    </tr>\n",
       "  </tbody>\n",
       "</table>\n",
       "<p>1 rows × 50 columns</p>\n",
       "</div>"
      ],
      "text/plain": [
       "                0        1          2         3          4           5   \\\n",
       "SYMBOL  TATAMOTORS  HCLTECH  POWERGRID  HDFCLIFE  EICHERMOT  BAJAJ-AUTO   \n",
       "\n",
       "           6     7        8         9   ...          40          41    42  \\\n",
       "SYMBOL  TECHM  NTPC  SBILIFE  AXISBANK  ...  HINDUNILVR  ULTRACEMCO  ONGC   \n",
       "\n",
       "                43        44    45   46         47          48          49  \n",
       "SYMBOL  INDUSINDBK  DIVISLAB  BPCL  M&M  SUNPHARMA  BAJAJFINSV  BAJFINANCE  \n",
       "\n",
       "[1 rows x 50 columns]"
      ]
     },
     "execution_count": 10,
     "metadata": {},
     "output_type": "execute_result"
    }
   ],
   "source": [
    "stocks.T"
   ]
  },
  {
   "cell_type": "code",
   "execution_count": 11,
   "metadata": {},
   "outputs": [],
   "source": [
    "def strdate(cdate,ydiff=0,mdiff=0,day_range=False,daydiff=0):\n",
    "    '''returns datetime in string with the option to get a different date'''\n",
    "    if(day_range):\n",
    "        return(cdate-timedelta(days=daydiff).strftime(\"%d-%m-%Y\"))\n",
    "    else:\n",
    "        return cdate.replace(year=cdate.year-ydiff,month=cdate.month-mdiff).strftime(\"%d-%m-%Y\")\n",
    "def get_his(stock,startdate,enddate):\n",
    "    '''retrives historical data of a stock for a given time frame'''\n",
    "    temp=getHistoryData(stock,from_date=startdate,to_date=enddate)\n",
    "    print(temp)\n",
    "    return temp\n",
    "    # ref: getHistoryData('SHREECEM',from_date='30-04-2020',to_date='30-04-2021')"
   ]
  },
  {
   "cell_type": "code",
   "execution_count": 14,
   "metadata": {},
   "outputs": [
    {
     "ename": "ValueError",
     "evalue": "invalid literal for int() with base 10: ''",
     "output_type": "error",
     "traceback": [
      "\u001b[1;31m---------------------------------------------------------------------------\u001b[0m",
      "\u001b[1;31mValueError\u001b[0m                                Traceback (most recent call last)",
      "Cell \u001b[1;32mIn[14], line 1\u001b[0m\n\u001b[1;32m----> 1\u001b[0m hist\u001b[39m=\u001b[39m\u001b[39mint\u001b[39;49m(\u001b[39minput\u001b[39;49m(\u001b[39m\"\u001b[39;49m\u001b[39mtime(Natural Number) (in years)\u001b[39;49m\u001b[39m\"\u001b[39;49m))\n\u001b[0;32m      2\u001b[0m dat_err\u001b[39m=\u001b[39m[]\n\u001b[0;32m      3\u001b[0m \u001b[39mfor\u001b[39;00m i \u001b[39min\u001b[39;00m \u001b[39mrange\u001b[39m(\u001b[39m0\u001b[39m,stocks[\u001b[39m\"\u001b[39m\u001b[39mSYMBOL\u001b[39m\u001b[39m\"\u001b[39m]\u001b[39m.\u001b[39msize):\n",
      "\u001b[1;31mValueError\u001b[0m: invalid literal for int() with base 10: ''"
     ]
    }
   ],
   "source": [
    "hist=int(input(\"time(Natural Number) (in years)\"))\n",
    "dat_err=[]\n",
    "for i in range(0,stocks[\"SYMBOL\"].size):\n",
    "    df=pd.DataFrame()\n",
    "    for j in range(0,hist):\n",
    "        f=0\n",
    "        while (f<10):\n",
    "            try:\n",
    "                t=get_his(stocks[\"SYMBOL\"][i],strdate(cdate,1+j),strdate(cdate,0+j))\n",
    "                break\n",
    "            except:\n",
    "                print(\"failed\")\n",
    "                f=f+1\n",
    "                continue\n",
    "        print(\"Recieved data\\n\\n\")\n",
    "        print(pd.DataFrame(t),flush=True)\n",
    "        if t.empty:\n",
    "            break\n",
    "        else:\n",
    "            clear_output(wait=True)\n",
    "            df=pd.concat([df,t])\n",
    "    if df.empty:\n",
    "        dat_err.append(i)\n",
    "    df=df.reset_index(drop=True)\n",
    "    df=df.replace({',':''},regex=True)\n",
    "    print(\"\\n\\nAggregated Data\\n\\n\")\n",
    "    print(df)\n",
    "    # df.to_csv(path_or_buf=data_write_dir+annot+stocks[\"SYMBOL\"][i]+\".csv\")"
   ]
  },
  {
   "cell_type": "code",
   "execution_count": null,
   "metadata": {},
   "outputs": [],
   "source": [
    "if len(dat_err)!=0:\n",
    "    print(\"There was an error in retriving data for these stocks:\")\n",
    "    print(pd.DataFrame(stocks[\"SYMBOL\"][dat_err],index=dat_err))\n",
    "else:\n",
    "    print(\"Program completed execution succsessfully!\")"
   ]
  },
  {
   "cell_type": "code",
   "execution_count": 51,
   "metadata": {},
   "outputs": [],
   "source": [
    "cust_symbol=[]# Example: \"M%26M\""
   ]
  },
  {
   "attachments": {},
   "cell_type": "markdown",
   "metadata": {},
   "source": [
    "> NOTE: For stocks symbols containing non-alphanumeric text (Eg: M&M), perform the following:\n",
    " 1. open NSE website\n",
    " 2. find the stock bieng looked for\n",
    " 3. copy what comes after \"symbol=\" in the URL into cust (Eg:M%26M)\n",
    " 4. Repeat for all failed symbols \n",
    " 5. Run the code below"
   ]
  },
  {
   "cell_type": "code",
   "execution_count": null,
   "metadata": {},
   "outputs": [],
   "source": [
    "for i in range(0,len(cust_symbol)):\n",
    "    df=pd.DataFrame()\n",
    "    for j in range(0,hist):\n",
    "        t=get_his(cust_symbol[i],strdate(cdate,1+j),strdate(cdate,0+j))\n",
    "        print(\"Recieved data\\n\\n\")\n",
    "        print(pd.DataFrame(t),flush=True)\n",
    "        if t.empty:\n",
    "            break\n",
    "        else:\n",
    "            clear_output(wait=True)\n",
    "            df=pd.concat([df,t])\n",
    "    if df.empty:\n",
    "        dat_err.append(i)\n",
    "    df=df.reset_index(drop=True)\n",
    "    df=df.replace({',':''},regex=True)\n",
    "    print(\"\\n\\nAggregated Data\\n\\n\")\n",
    "    print(df)\n",
    "    df.to_csv(path_or_buf=data_write_dir+annot+stocks[\"SYMBOL\"][dat_err[i]]+\".csv\")"
   ]
  }
 ],
 "metadata": {
  "kernelspec": {
   "display_name": "Python 3",
   "language": "python",
   "name": "python3"
  },
  "language_info": {
   "codemirror_mode": {
    "name": "ipython",
    "version": 3
   },
   "file_extension": ".py",
   "mimetype": "text/x-python",
   "name": "python",
   "nbconvert_exporter": "python",
   "pygments_lexer": "ipython3",
   "version": "3.10.5"
  },
  "orig_nbformat": 4
 },
 "nbformat": 4,
 "nbformat_minor": 2
}
